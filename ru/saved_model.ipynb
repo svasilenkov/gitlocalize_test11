{
  "cells": [
    {
      "cell_type": "markdown",
      "metadata": {
        "colab_type": "text",
        "id": "6bYaCABobL5q"
      },
      "source": [
        "##### Авторские права 2018 Авторы TensorFlow."
      ]
    },
    {
      "cell_type": "code",
      "execution_count": 0,
      "metadata": {
        "cellView": "form",
        "colab": {
        },
        "colab_type": "code",
        "id": "FlUw7tSKbtg4"
      },
      "outputs": [

      ],
      "source": [
        "#@title Licensed under the Apache License, Version 2.0 (the \"License\");\n",
        "# you may not use this file except in compliance with the License.\n",
        "# You may obtain a copy of the License at\n",
        "#\n",
        "# https://www.apache.org/licenses/LICENSE-2.0\n",
        "#\n",
        "# Unless required by applicable law or agreed to in writing, software\n",
        "# distributed under the License is distributed on an \"AS IS\" BASIS,\n",
        "# WITHOUT WARRANTIES OR CONDITIONS OF ANY KIND, either express or implied.\n",
        "# See the License for the specific language governing permissions and\n",
        "# limitations under the License."
      ]
    },
    {
      "cell_type": "markdown",
      "metadata": {
        "colab_type": "text",
        "id": "xc1srSc51n_4"
      },
      "source": [
        "# Использование формата SavedModel"
      ]
    },
    {
      "cell_type": "markdown",
      "metadata": {
        "colab_type": "text",
        "id": "-nBUqG2rchGH"
      },
      "source": [
        "<table class=\"tfo-notebook-buttons\" align=\"left\">\n",
        "  <td><a target=\"_blank\" href=\"https://www.tensorflow.org/guide/saved_model\"><img src=\"https://www.tensorflow.org/images/tf_logo_32px.png\">Посмотреть на TensorFlow.org</a></td>\n",
        "  <td><a target=\"_blank\" href=\"https://colab.research.google.com/github/tensorflow/docs/blob/master/site/en/guide/saved_model.ipynb\"><img src=\"https://www.tensorflow.org/images/colab_logo_32px.png\">Запустить в Google Colab</a></td>\n",
        "  <td><a target=\"_blank\" href=\"https://github.com/tensorflow/docs/blob/master/site/en/guide/saved_model.ipynb\"><img src=\"https://www.tensorflow.org/images/GitHub-Mark-32px.png\">Посмотреть исходный код на GitHub</a></td>\n",
        "  <td><a href=\"https://storage.googleapis.com/tensorflow_docs/docs/site/en/guide/saved_model.ipynb\"><img src=\"https://www.tensorflow.org/images/download_logo_32px.png\">Скачать блокнот</a></td>\n",
        "</table>"
      ]
    },
    {
      "cell_type": "markdown",
      "metadata": {
        "colab_type": "text",
        "id": "CPE-fshLTsXU"
      },
      "source": [
        "SavedModel содержит полную программу TensorFlow, включая веса и вычисления. Он не требует наличия оригинальной модели здания код для запуска, что делает его полезным для совместного использования или развертывания (с [TFLite](https://tensorflow.org/lite) , [TensorFlow.js](https://js.tensorflow.org/) , [TensorFlow сервировки](https://www.tensorflow.org/tfx/serving/tutorials/Serving_REST_simple) или [TensorFlow Hub](https://tensorflow.org/hub) ).\n",
        "\n",
        "В этом документе подробно описывается, как использовать низкоуровневый api `tf.saved_model`\n",
        "\n",
        "- Если вы используете `tf.keras.Model` метод `keras.Model.save(output_path)` может быть всем, что вам нужно: см. [Сохранение и сериализация Keras](keras/save_and_serialize.ipynb)\n",
        "\n",
        "- Если вы просто хотите сохранить / загрузить веса во время тренировки, см. [Руководство по контрольным точкам тренировки](./checkpoint.ipynb) .\n"
      ]
    },
    {
      "cell_type": "markdown",
      "metadata": {
        "colab_type": "text",
        "id": "9SuIC7FiI9g8"
      },
      "source": [
        "## Создание SavedModel из Keras\n",
        "\n",
        "Для быстрого введения в этом разделе экспортируется предварительно обученная модель Keras и обслуживается с ее помощью запросы классификации изображений. Остальная часть руководства заполнит детали и обсудит другие способы создания SavedModels."
      ]
    },
    {
      "cell_type": "code",
      "execution_count": 0,
      "metadata": {
        "colab": {
        },
        "colab_type": "code",
        "id": "Le5OB-fBHHW7"
      },
      "outputs": [

      ],
      "source": [
        "import os\n",
        "import tempfile\n",
        "\n",
        "from matplotlib import pyplot as plt\n",
        "import numpy as np\n",
        "import tensorflow as tf\n",
        "\n",
        "tmpdir = tempfile.mkdtemp()"
      ]
    },
    {
      "cell_type": "code",
      "execution_count": 0,
      "metadata": {
        "colab": {
        },
        "colab_type": "code",
        "id": "wlho4HEWoHUT"
      },
      "outputs": [

      ],
      "source": [
        "physical_devices = tf.config.experimental.list_physical_devices('GPU')\n",
        "if physical_devices:\n",
        "  tf.config.experimental.set_memory_growth(physical_devices[0], True)"
      ]
    },
    {
      "cell_type": "code",
      "execution_count": 0,
      "metadata": {
        "colab": {
        },
        "colab_type": "code",
        "id": "SofdPKo0G8Lb"
      },
      "outputs": [

      ],
      "source": [
        "file = tf.keras.utils.get_file(\n",
        "    \"grace_hopper.jpg\",\n",
        "    \"https://storage.googleapis.com/download.tensorflow.org/example_images/grace_hopper.jpg\")\n",
        "img = tf.keras.preprocessing.image.load_img(file, target_size=[224, 224])\n",
        "plt.imshow(img)\n",
        "plt.axis('off')\n",
        "x = tf.keras.preprocessing.image.img_to_array(img)\n",
        "x = tf.keras.applications.mobilenet.preprocess_input(\n",
        "    x[tf.newaxis,...])"
      ]
    },
    {
      "cell_type": "markdown",
      "metadata": {
        "colab_type": "text",
        "id": "sqVcFL10JkF0"
      },
      "source": [
        "Мы будем использовать изображение Грейс Хоппер в качестве рабочего примера и предварительно обученную модель классификации изображений Keras, поскольку она проста в использовании. Также работают нестандартные модели, о которых мы подробнее поговорим позже."
      ]
    },
    {
      "cell_type": "code",
      "execution_count": 0,
      "metadata": {
        "colab": {
        },
        "colab_type": "code",
        "id": "JhVecdzJTsKE"
      },
      "outputs": [

      ],
      "source": [
        "labels_path = tf.keras.utils.get_file(\n",
        "    'ImageNetLabels.txt',\n",
        "    'https://storage.googleapis.com/download.tensorflow.org/data/ImageNetLabels.txt')\n",
        "imagenet_labels = np.array(open(labels_path).read().splitlines())"
      ]
    },
    {
      "cell_type": "code",
      "execution_count": 0,
      "metadata": {
        "colab": {
        },
        "colab_type": "code",
        "id": "aEHSYjW6JZHV"
      },
      "outputs": [

      ],
      "source": [
        "pretrained_model = tf.keras.applications.MobileNet()\n",
        "result_before_save = pretrained_model(x)\n",
        "\n",
        "decoded = imagenet_labels[np.argsort(result_before_save)[0,::-1][:5]+1]\n",
        "\n",
        "print(\"Result before saving:\\n\", decoded)"
      ]
    },
    {
      "cell_type": "markdown",
      "metadata": {
        "colab_type": "text",
        "id": "r4KIsQDZJ5PS"
      },
      "source": [
        "Главный прогноз для этого изображения - «военная форма»."
      ]
    },
    {
      "cell_type": "code",
      "execution_count": 0,
      "metadata": {
        "colab": {
        },
        "colab_type": "code",
        "id": "8nfznDmHCW6F"
      },
      "outputs": [

      ],
      "source": [
        "mobilenet_save_path = os.path.join(tmpdir, \"mobilenet/1/\")\n",
        "tf.saved_model.save(pretrained_model, mobilenet_save_path)"
      ]
    },
    {
      "cell_type": "markdown",
      "metadata": {
        "colab_type": "text",
        "id": "pyX-ETE3wX63"
      },
      "source": [
        "Путь сохранения следует соглашению, используемому службой TensorFlow, где последний компонент пути ( `1/` ) является номером версии для вашей модели - это позволяет таким инструментам, как Tensorflow Serving, определять относительную свежесть."
      ]
    },
    {
      "cell_type": "markdown",
      "metadata": {
        "colab_type": "text",
        "id": "VCZZ8avqLF1g"
      },
      "source": [
        "Мы можем загрузить SavedModel обратно в Python с помощью `tf.saved_model.load` и посмотреть, как классифицируется изображение адмирала Хоппера."
      ]
    },
    {
      "cell_type": "code",
      "execution_count": 0,
      "metadata": {
        "colab": {
        },
        "colab_type": "code",
        "id": "NP2UpVFRV7N_"
      },
      "outputs": [

      ],
      "source": [
        "loaded = tf.saved_model.load(mobilenet_save_path)\n",
        "print(list(loaded.signatures.keys()))  # [\"serving_default\"]"
      ]
    },
    {
      "cell_type": "markdown",
      "metadata": {
        "colab_type": "text",
        "id": "K5srGzowfWff"
      },
      "source": [
        "Импортированные подписи всегда возвращают словари. Чтобы настроить имена подписей и ключи выходного словаря, см. [Указание подписей во время экспорта](#specifying_signatures_during_export) ."
      ]
    },
    {
      "cell_type": "code",
      "execution_count": 0,
      "metadata": {
        "colab": {
        },
        "colab_type": "code",
        "id": "ChFLpegYfQGR"
      },
      "outputs": [

      ],
      "source": [
        "infer = loaded.signatures[\"serving_default\"]\n",
        "print(infer.structured_outputs)"
      ]
    },
    {
      "cell_type": "markdown",
      "metadata": {
        "colab_type": "text",
        "id": "cJYyZnptfuru"
      },
      "source": [
        "Выполнение вывода из SavedModel дает тот же результат, что и исходная модель."
      ]
    },
    {
      "cell_type": "code",
      "execution_count": 0,
      "metadata": {
        "colab": {
        },
        "colab_type": "code",
        "id": "9WjGEaS3XfX7"
      },
      "outputs": [

      ],
      "source": [
        "labeling = infer(tf.constant(x))[pretrained_model.output_names[0]]\n",
        "\n",
        "decoded = imagenet_labels[np.argsort(labeling)[0,::-1][:5]+1]\n",
        "\n",
        "print(\"Result after saving and loading:\\n\", decoded)"
      ]
    },
    {
      "cell_type": "markdown",
      "metadata": {
        "colab_type": "text",
        "id": "SJEkdXjTWbtl"
      },
      "source": [
        "## Запуск SavedModel в TensorFlow Serving\n",
        "\n",
        "SavedModels можно использовать из Python (подробнее об этом ниже), но в производственных средах обычно используется выделенная служба для вывода без запуска кода Python. Это легко настроить из SavedModel с помощью TensorFlow Serving.\n",
        "\n",
        "См. `tensorflow_model_server` [Serving REST](https://www.tensorflow.org/tfx/tutorials/serving/rest_simple) для получения дополнительных сведений об обслуживании, включая инструкции по установке tensorflow_model_server в записной книжке или на вашем локальном компьютере. В качестве быстрого наброска для обслуживания `mobilenet` просто укажите сервер модели в каталоге SavedModel:\n",
        "\n",
        "```bash\n",
        "nohup tensorflow_model_server \\\n",
        "  --rest_api_port=8501 \\\n",
        "  --model_name=mobilenet \\\n",
        "  --model_base_path=\"/tmp/mobilenet\" >server.log 2>&1\n",
        "```\n",
        "\n",
        "Тогда отправьте заявку.\n",
        "\n",
        "```python\n",
        "!pip install requests\n",
        "import json\n",
        "import numpy\n",
        "import requests\n",
        "data = json.dumps({\"signature_name\": \"serving_default\",\n",
        "                   \"instances\": x.tolist()})\n",
        "headers = {\"content-type\": \"application/json\"}\n",
        "json_response = requests.post('http://localhost:8501/v1/models/mobilenet:predict',\n",
        "                              data=data, headers=headers)\n",
        "predictions = numpy.array(json.loads(json_response.text)[\"predictions\"])\n",
        "```\n",
        "\n",
        "Полученные `predictions` идентичны результатам Python."
      ]
    },
    {
      "cell_type": "markdown",
      "metadata": {
        "colab_type": "text",
        "id": "Bi0ILzu1XdWw"
      },
      "source": [
        "## Формат SavedModel на диске\n",
        "\n",
        "SavedModel - это каталог, содержащий сериализованные подписи и состояние, необходимое для их запуска, включая значения переменных и словари.\n"
      ]
    },
    {
      "cell_type": "code",
      "execution_count": 0,
      "metadata": {
        "colab": {
        },
        "colab_type": "code",
        "id": "6u3YZuYZXyTO"
      },
      "outputs": [

      ],
      "source": [
        "!ls {mobilenet_save_path}"
      ]
    },
    {
      "cell_type": "markdown",
      "metadata": {
        "colab_type": "text",
        "id": "ple4X5utX8ue"
      },
      "source": [
        "В `saved_model.pb` хранится фактическая программа или модель TensorFlow и набор именованных сигнатур, каждая из которых идентифицирует функцию, которая принимает тензорные входные данные и производит тензорные выходные данные.\n",
        "\n",
        "SavedModels может содержать несколько вариантов модели (несколько `v1.MetaGraphDefs` , идентифицируемых с `--tag_set` флага `saved_model_cli` для saved_model_cli), но это бывает редко. API, которые создают несколько вариантов модели, включают [`tf.Estimator.experimental_export_all_saved_models`](https://www.tensorflow.org/api_docs/python/tf/estimator/Estimator#experimental_export_all_saved_models) и `tf.saved_model.Builder`"
      ]
    },
    {
      "cell_type": "code",
      "execution_count": 0,
      "metadata": {
        "colab": {
        },
        "colab_type": "code",
        "id": "Pus0dOYTYXbI"
      },
      "outputs": [

      ],
      "source": [
        "!saved_model_cli show --dir {mobilenet_save_path} --tag_set serve"
      ]
    },
    {
      "cell_type": "markdown",
      "metadata": {
        "colab_type": "text",
        "id": "eALHpGvRZOhk"
      },
      "source": [
        "`variables` содержит стандартную контрольную точку обучения (см. [Руководство по контрольным точкам обучения](./checkpoint.ipynb) )."
      ]
    },
    {
      "cell_type": "code",
      "execution_count": 0,
      "metadata": {
        "colab": {
        },
        "colab_type": "code",
        "id": "EDYqhDlNZAC2"
      },
      "outputs": [

      ],
      "source": [
        "!ls {mobilenet_save_path}/variables"
      ]
    },
    {
      "cell_type": "markdown",
      "metadata": {
        "colab_type": "text",
        "id": "VKmaZQpHahGh"
      },
      "source": [
        "`assets` содержит файлы, используемые графиком TensorFlow, например текстовые файлы, используемые для инициализации словарных таблиц. В этом примере он не используется.\n",
        "\n",
        "SavedModels может иметь `assets.extra` для любых файлов, не используемых графом TensorFlow, например, информацию для потребителей о том, что делать с SavedModel. Сам TensorFlow не использует этот каталог."
      ]
    },
    {
      "cell_type": "markdown",
      "metadata": {
        "colab_type": "text",
        "id": "zIceoF_CYmaF"
      },
      "source": [
        "## Сохранение нестандартной модели\n",
        "\n",
        "`tf.saved_model.save` поддерживает сохранение `tf.Module` и его подклассов, таких как `tf.keras.Layer` и `tf.keras.Model` .\n",
        "\n",
        "Давайте посмотрим на пример сохранения и восстановления `tf.Module` .\n"
      ]
    },
    {
      "cell_type": "code",
      "execution_count": 0,
      "metadata": {
        "colab": {
        },
        "colab_type": "code",
        "id": "6EPvKiqXMm3d"
      },
      "outputs": [

      ],
      "source": [
        "class CustomModule(tf.Module):\n",
        "\n",
        "  def __init__(self):\n",
        "    super(CustomModule, self).__init__()\n",
        "    self.v = tf.Variable(1.)\n",
        "\n",
        "  @tf.function\n",
        "  def __call__(self, x):\n",
        "    print('Tracing with', x)\n",
        "    return x * self.v\n",
        "\n",
        "  @tf.function(input_signature=[tf.TensorSpec([], tf.float32)])\n",
        "  def mutate(self, new_v):\n",
        "    self.v.assign(new_v)\n",
        "\n",
        "module = CustomModule()"
      ]
    },
    {
      "cell_type": "markdown",
      "metadata": {
        "colab_type": "text",
        "id": "J4FcP-Co3Fnw"
      },
      "source": [
        "Когда вы сохраняете `tf.Module` , `tf.Variable` атрибуты `tf.function` методы `tf.Module` найденные с помощью рекурсивного обхода. (Подробнее об этом рекурсивном обходе см. В [учебнике](./checkpoint.ipynb) по контрольным точкам.) Однако все атрибуты, функции и данные Python теряются. Это означает, что при `tf.function` код Python не сохраняется.\n",
        "\n",
        "Если код Python не сохранен, откуда SavedModel знает, как восстановить функцию?\n",
        "\n",
        "Вкратце, `tf.function` работает путем отслеживания кода Python для создания ConcreteFunction (вызываемой оболочки вокруг `tf.Graph` ). `tf.function` , вы действительно сохраняете `tf.function` для ConcreteFunctions.\n",
        "\n",
        "Чтобы узнать больше о взаимосвязи между `tf.function` и ConcreteFunctions, см. [Руководство tf.function](../../guide/concrete_function) . В этом [разделе, посвященном трассировке,](../../tutorials/customization/performance#side_effects_in_tffunction) также уточняется, какой код Python захватывается ConcreteFunction."
      ]
    },
    {
      "cell_type": "code",
      "execution_count": 0,
      "metadata": {
        "colab": {
        },
        "colab_type": "code",
        "id": "85PUO9iWH7xn"
      },
      "outputs": [

      ],
      "source": [
        "module_no_signatures_path = os.path.join(tmpdir, 'module_no_signatures')\n",
        "module(tf.constant(0.))\n",
        "print('Saving model...')\n",
        "tf.saved_model.save(module, module_no_signatures_path)"
      ]
    },
    {
      "cell_type": "markdown",
      "metadata": {
        "colab_type": "text",
        "id": "2ujwmMQg7OUo"
      },
      "source": [
        "## Загрузка и использование нестандартной модели"
      ]
    },
    {
      "cell_type": "markdown",
      "metadata": {
        "colab_type": "text",
        "id": "QpxQy5Eb77qJ"
      },
      "source": [
        "Когда вы загружаете SavedModel в Python, все атрибуты `tf.Variable` `tf.function` методы и `tf.Module` восстанавливаются в той же структуре объекта, что и исходный сохраненный `tf.Module` ."
      ]
    },
    {
      "cell_type": "code",
      "execution_count": 0,
      "metadata": {
        "colab": {
        },
        "colab_type": "code",
        "id": "EMASjADPxPso"
      },
      "outputs": [

      ],
      "source": [
        "imported = tf.saved_model.load(module_no_signatures_path)\n",
        "assert imported(tf.constant(3.)).numpy() == 3\n",
        "imported.mutate(tf.constant(2.))\n",
        "assert imported(tf.constant(3.)).numpy() == 6"
      ]
    },
    {
      "cell_type": "markdown",
      "metadata": {
        "colab_type": "text",
        "id": "CDiauvb_99uk"
      },
      "source": [
        "Поскольку код Python не сохраняется, вызов `tf.function` с новой входной сигнатурой завершится ошибкой:\n",
        "\n",
        "```python\n",
        "imported(tf.constant([3.]))\n",
        "```\n",
        "\n",
        "<pre>ValueError: Could not find matching function to call for canonicalized inputs ((&lt;tf.tensor shape=\"(1,)\" dtype=\"float32\"&gt;,), {}). Only existing signatures are [((TensorSpec(shape=(), dtype=tf.float32, name=u'x'),), {})].\n",
        "&lt;/tf.tensor&gt;</pre>"
      ]
    },
    {
      "cell_type": "markdown",
      "metadata": {
        "colab_type": "text",
        "id": "4Vsva3UZ-2sf"
      },
      "source": [
        "### Базовая тонкая настройка\n",
        "\n",
        "Доступны переменные объекты, и мы можем выполнять обратную передачу с помощью импортированных функций. Этого достаточно для точной настройки (т.е. переобучения) SavedModel в простых случаях."
      ]
    },
    {
      "cell_type": "code",
      "execution_count": 0,
      "metadata": {
        "colab": {
        },
        "colab_type": "code",
        "id": "PEkQNarJ-7nT"
      },
      "outputs": [

      ],
      "source": [
        "optimizer = tf.optimizers.SGD(0.05)\n",
        "\n",
        "def train_step():\n",
        "  with tf.GradientTape() as tape:\n",
        "    loss = (10. - imported(tf.constant(2.))) ** 2\n",
        "  variables = tape.watched_variables()\n",
        "  grads = tape.gradient(loss, variables)\n",
        "  optimizer.apply_gradients(zip(grads, variables))\n",
        "  return loss"
      ]
    },
    {
      "cell_type": "code",
      "execution_count": 0,
      "metadata": {
        "colab": {
        },
        "colab_type": "code",
        "id": "p41NM6fF---3"
      },
      "outputs": [

      ],
      "source": [
        "for _ in range(10):\n",
        "  # \"v\" approaches 5, \"loss\" approaches 0\n",
        "  print(\"loss={:.2f} v={:.2f}\".format(train_step(), imported.v.numpy()))"
      ]
    },
    {
      "cell_type": "markdown",
      "metadata": {
        "colab_type": "text",
        "id": "XuXtkHSD_KSW"
      },
      "source": [
        "### Общая тонкая настройка\n",
        "\n",
        "SavedModel от Keras предоставляет [больше деталей,](https://github.com/tensorflow/community/blob/master/rfcs/20190509-keras-saved-model.md#serialization-details) чем простой `__call__` для решения более сложных случаев тонкой настройки. TensorFlow Hub рекомендует предоставить следующие из них, если применимо, в общих моделях SavedModels с целью точной настройки:\n",
        "\n",
        "- Если в модели используется выпадение или другой метод, в котором прямой проход отличается между обучением и логическим выводом (например, пакетная нормализация), `__call__` `training=` оцениваемый Python, который по умолчанию имеет значение `False` но может иметь значение `True` .\n",
        "- Рядом с атрибутом `__call__` `.variable` и `.trainable_variable` с соответствующими списками переменных. Переменная, которая изначально была обучаемой, но должна быть заморожена во время точной настройки, опускается в `.trainable_variables` .\n",
        "- Для таких фреймворков, как Keras, которые представляют регуляризаторы веса как атрибуты слоев или `.regularization_losses` , также может быть атрибут .regularization_losses. Он содержит список функций с нулевым аргументом, значения которых предназначены для добавления к общей потере.\n",
        "\n",
        "Возвращаясь к первоначальному примеру MobileNet, мы можем увидеть некоторые из них в действии:"
      ]
    },
    {
      "cell_type": "code",
      "execution_count": 0,
      "metadata": {
        "colab": {
        },
        "colab_type": "code",
        "id": "Y6EUFdY8_PRD"
      },
      "outputs": [

      ],
      "source": [
        "loaded = tf.saved_model.load(mobilenet_save_path)\n",
        "print(\"MobileNet has {} trainable variables: {}, ...\".format(\n",
        "          len(loaded.trainable_variables),\n",
        "          \", \".join([v.name for v in loaded.trainable_variables[:5]])))"
      ]
    },
    {
      "cell_type": "code",
      "execution_count": 0,
      "metadata": {
        "colab": {
        },
        "colab_type": "code",
        "id": "B-mQJ8iP_R0h"
      },
      "outputs": [

      ],
      "source": [
        "trainable_variable_ids = {id(v) for v in loaded.trainable_variables}\n",
        "non_trainable_variables = [v for v in loaded.variables\n",
        "                           if id(v) not in trainable_variable_ids]\n",
        "print(\"MobileNet also has {} non-trainable variables: {}, ...\".format(\n",
        "          len(non_trainable_variables),\n",
        "          \", \".join([v.name for v in non_trainable_variables[:3]])))"
      ]
    },
    {
      "cell_type": "markdown",
      "metadata": {
        "colab_type": "text",
        "id": "qGlHlbd3_eyO"
      },
      "source": [
        "## Указание подписей при экспорте\n",
        "\n",
        "Такие инструменты, как TensorFlow Serving и `saved_model_cli` могут взаимодействовать с SavedModels. Чтобы помочь этим инструментам определить, какие конкретные функции использовать, нам нужно указать обслуживающие подписи. `tf.keras.Model` автоматически определяет обслуживающие подписи, но нам придется явно объявить обслуживающую подпись для наших настраиваемых модулей.\n",
        "\n",
        "По умолчанию в настраиваемом `tf.Module` подписи не объявляются."
      ]
    },
    {
      "cell_type": "code",
      "execution_count": 0,
      "metadata": {
        "colab": {
        },
        "colab_type": "code",
        "id": "h-IB5Xa0NxLa"
      },
      "outputs": [

      ],
      "source": [
        "assert len(imported.signatures) == 0"
      ]
    },
    {
      "cell_type": "markdown",
      "metadata": {
        "colab_type": "text",
        "id": "BiNtaMZSI8Tb"
      },
      "source": [
        "Чтобы объявить обслуживающую сигнатуру, укажите ConcreteFunction, используя `signatures` kwarg. При указании одной подписи ключ подписи будет иметь значение `'serving_default'` , которое сохраняется как константа `tf.saved_model.DEFAULT_SERVING_SIGNATURE_DEF_KEY` ."
      ]
    },
    {
      "cell_type": "code",
      "execution_count": 0,
      "metadata": {
        "colab": {
        },
        "colab_type": "code",
        "id": "_pAdgIORR2yH"
      },
      "outputs": [

      ],
      "source": [
        "module_with_signature_path = os.path.join(tmpdir, 'module_with_signature')\n",
        "call = module.__call__.get_concrete_function(tf.TensorSpec(None, tf.float32))\n",
        "tf.saved_model.save(module, module_with_signature_path, signatures=call)"
      ]
    },
    {
      "cell_type": "code",
      "execution_count": 0,
      "metadata": {
        "colab": {
        },
        "colab_type": "code",
        "id": "nAzRHR0UT4hv"
      },
      "outputs": [

      ],
      "source": [
        "imported_with_signatures = tf.saved_model.load(module_with_signature_path)\n",
        "list(imported_with_signatures.signatures.keys())\n"
      ]
    },
    {
      "cell_type": "markdown",
      "metadata": {
        "colab_type": "text",
        "id": "_gH91j1IR4tq"
      },
      "source": [
        "Чтобы экспортировать несколько подписей, передайте словарь ключей подписей в ConcreteFunctions. Каждый ключ подписи соответствует одной ConcreteFunction."
      ]
    },
    {
      "cell_type": "code",
      "execution_count": 0,
      "metadata": {
        "colab": {
        },
        "colab_type": "code",
        "id": "6VYAiQmLUiox"
      },
      "outputs": [

      ],
      "source": [
        "module_multiple_signatures_path = os.path.join(tmpdir, 'module_with_multiple_signatures')\n",
        "signatures = {\"serving_default\": call,\n",
        "              \"array_input\": module.__call__.get_concrete_function(tf.TensorSpec([None], tf.float32))}\n",
        "\n",
        "tf.saved_model.save(module, module_multiple_signatures_path, signatures=signatures)"
      ]
    },
    {
      "cell_type": "code",
      "execution_count": 0,
      "metadata": {
        "colab": {
        },
        "colab_type": "code",
        "id": "8IPx_0RWEx07"
      },
      "outputs": [

      ],
      "source": [
        "imported_with_multiple_signatures = tf.saved_model.load(module_multiple_signatures_path)\n",
        "list(imported_with_multiple_signatures.signatures.keys())"
      ]
    },
    {
      "cell_type": "markdown",
      "metadata": {
        "colab_type": "text",
        "id": "43_Qv2W_DJZZ"
      },
      "source": [
        "По умолчанию имена выходных тензоров довольно общие, например `output_0` . Чтобы управлять именами выходов, измените `tf.function` чтобы она возвращала словарь, который сопоставляет имена выходов с выходами. Имена входов являются производными от имен аргументов функции Python."
      ]
    },
    {
      "cell_type": "code",
      "execution_count": 0,
      "metadata": {
        "colab": {
        },
        "colab_type": "code",
        "id": "ACKPl1X8G1gw"
      },
      "outputs": [

      ],
      "source": [
        "class CustomModuleWithOutputName(tf.Module):\n",
        "  def __init__(self):\n",
        "    super(CustomModuleWithOutputName, self).__init__()\n",
        "    self.v = tf.Variable(1.)\n",
        "\n",
        "  @tf.function(input_signature=[tf.TensorSpec([], tf.float32)])\n",
        "  def __call__(self, x):\n",
        "    return {'custom_output_name': x * self.v}\n",
        "\n",
        "module_output = CustomModuleWithOutputName()\n",
        "call_output = module_output.__call__.get_concrete_function(tf.TensorSpec(None, tf.float32))\n",
        "module_output_path = os.path.join(tmpdir, 'module_with_output_name')\n",
        "tf.saved_model.save(module_output, module_output_path,\n",
        "                    signatures={'serving_default': call_output})"
      ]
    },
    {
      "cell_type": "code",
      "execution_count": 0,
      "metadata": {
        "colab": {
        },
        "colab_type": "code",
        "id": "1yGVy4MuH-V0"
      },
      "outputs": [

      ],
      "source": [
        "imported_with_output_name = tf.saved_model.load(module_output_path)\n",
        "imported_with_output_name.signatures['serving_default'].structured_outputs"
      ]
    },
    {
      "cell_type": "markdown",
      "metadata": {
        "colab_type": "text",
        "id": "Dk5wWyuMpuHx"
      },
      "source": [
        "## Сохраненные модели из оценщиков\n",
        "\n",
        "Оценщики экспортируют SavedModels через [`tf.Estimator.export_saved_model`](https://www.tensorflow.org/api_docs/python/tf/estimator/Estimator#export_saved_model) . Подробности см. В [руководстве по Оценщику](https://www.tensorflow.org/guide/estimator) ."
      ]
    },
    {
      "cell_type": "code",
      "execution_count": 0,
      "metadata": {
        "colab": {
        },
        "colab_type": "code",
        "id": "B9KQq5qzpzbK"
      },
      "outputs": [

      ],
      "source": [
        "input_column = tf.feature_column.numeric_column(\"x\")\n",
        "estimator = tf.estimator.LinearClassifier(feature_columns=[input_column])\n",
        "\n",
        "def input_fn():\n",
        "  return tf.data.Dataset.from_tensor_slices(\n",
        "    ({\"x\": [1., 2., 3., 4.]}, [1, 1, 0, 0])).repeat(200).shuffle(64).batch(16)\n",
        "estimator.train(input_fn)\n",
        "\n",
        "serving_input_fn = tf.estimator.export.build_parsing_serving_input_receiver_fn(\n",
        "  tf.feature_column.make_parse_example_spec([input_column]))\n",
        "estimator_base_path = os.path.join(tmpdir, 'from_estimator')\n",
        "estimator_path = estimator.export_saved_model(estimator_base_path, serving_input_fn)"
      ]
    },
    {
      "cell_type": "markdown",
      "metadata": {
        "colab_type": "text",
        "id": "XJ4PJ-Cl4060"
      },
      "source": [
        "Эта SavedModel принимает сериализованные `tf.Example` протокола tf.Example, которые полезны для обслуживания. Но мы также можем загрузить его с помощью `tf.saved_model.load` и запустить из Python."
      ]
    },
    {
      "cell_type": "code",
      "execution_count": 0,
      "metadata": {
        "colab": {
        },
        "colab_type": "code",
        "id": "c_BUBBNB1UH9"
      },
      "outputs": [

      ],
      "source": [
        "imported = tf.saved_model.load(estimator_path)\n",
        "\n",
        "def predict(x):\n",
        "  example = tf.train.Example()\n",
        "  example.features.feature[\"x\"].float_list.value.extend([x])\n",
        "  return imported.signatures[\"predict\"](\n",
        "    examples=tf.constant([example.SerializeToString()]))"
      ]
    },
    {
      "cell_type": "code",
      "execution_count": 0,
      "metadata": {
        "colab": {
        },
        "colab_type": "code",
        "id": "C1ylWZCQ1ahG"
      },
      "outputs": [

      ],
      "source": [
        "print(predict(1.5))\n",
        "print(predict(3.5))"
      ]
    },
    {
      "cell_type": "markdown",
      "metadata": {
        "colab_type": "text",
        "id": "_IrCCm0-isqA"
      },
      "source": [
        "`tf.estimator.export.build_raw_serving_input_receiver_fn` позволяет вам создавать функции ввода, которые принимают необработанные тензоры, а не `tf.train.Example` s."
      ]
    },
    {
      "cell_type": "markdown",
      "metadata": {
        "colab_type": "text",
        "id": "Co6fDbzw_UnD"
      },
      "source": [
        "## Загрузить SavedModel в C ++\n",
        "\n",
        "[Версия загрузчика](https://github.com/tensorflow/tensorflow/blob/master/tensorflow/cc/saved_model/loader.h) SavedModel для C ++ предоставляет API для загрузки SavedModel из пути, при этом разрешая SessionOptions и RunOptions. Вы должны указать теги, связанные с загружаемым графиком. Загруженная версия SavedModel называется SavedModelBundle и содержит MetaGraphDef и сеанс, в котором он загружен.\n",
        "\n",
        "```C++\n",
        "const string export_dir = ...\n",
        "SavedModelBundle bundle;\n",
        "...\n",
        "LoadSavedModel(session_options, run_options, export_dir, {kSavedModelTagTrain},\n",
        "               &bundle);\n",
        "```"
      ]
    },
    {
      "cell_type": "markdown",
      "metadata": {
        "colab_type": "text",
        "id": "b33KuyEuAO3Z"
      },
      "source": [
        "<a id=\"saved_model_cli\"></a>\n",
        "\n",
        "## Подробная информация об интерфейсе командной строки SavedModel\n",
        "\n",
        "Вы можете использовать интерфейс командной строки (CLI) SavedModel для проверки и выполнения SavedModel. Например, вы можете использовать CLI для проверки `SignatureDef` модели. Интерфейс командной строки позволяет быстро подтвердить, что входной тип и форма тензора соответствуют модели. Более того, если вы хотите протестировать свою модель, вы можете использовать CLI для проверки работоспособности, передав образцы входных данных в различных форматах (например, выражения Python) и затем извлекая выходные данные.\n",
        "\n",
        "### Установите интерфейс командной строки SavedModel\n",
        "\n",
        "Вообще говоря, вы можете установить TensorFlow одним из следующих двух способов:\n",
        "\n",
        "- Установив предварительно созданный двоичный файл TensorFlow.\n",
        "- Создав TensorFlow из исходного кода.\n",
        "\n",
        "Если вы установили TensorFlow через предварительно созданный двоичный файл TensorFlow, тогда в вашей системе уже установлен интерфейс командной строки SavedModel по пути `bin/saved_model_cli` .\n",
        "\n",
        "`saved_model_cli` из исходного кода, вы должны выполнить следующую дополнительную команду для сборки saved_model_cli:\n",
        "\n",
        "```\n",
        "$ bazel build tensorflow/python/tools:saved_model_cli\n",
        "```\n",
        "\n",
        "### Обзор команд\n",
        "\n",
        "Интерфейс командной строки SavedModel поддерживает следующие две команды в SavedModel:\n",
        "\n",
        "- `show` , в котором показаны вычисления, доступные из SavedModel.\n",
        "- `run` , который запускает вычисление из SavedModel.\n",
        "\n",
        "### `show` команду\n",
        "\n",
        "SavedModel содержит один или несколько вариантов модели (технически `v1.MetaGraphDef` s), идентифицируемых их наборами тегов. Чтобы служить модели, вы можете задаться вопросом, какие `SignatureDef` есть в каждом варианте модели и каковы их входы и выходы. Команда `show` позволяет вам исследовать содержимое SavedModel в иерархическом порядке. Вот синтаксис:\n",
        "\n",
        "```\n",
        "usage: saved_model_cli show [-h] --dir DIR [--all]\n",
        "[--tag_set TAG_SET] [--signature_def SIGNATURE_DEF_KEY]\n",
        "```\n",
        "\n",
        "Например, следующая команда показывает все доступные наборы тегов в SavedModel:\n",
        "\n",
        "```\n",
        "$ saved_model_cli show --dir /tmp/saved_model_dir\n",
        "The given SavedModel contains the following tag-sets:\n",
        "serve\n",
        "serve, gpu\n",
        "```\n",
        "\n",
        "Следующая команда показывает все доступные `SignatureDef` для набора тегов:\n",
        "\n",
        "```\n",
        "$ saved_model_cli show --dir /tmp/saved_model_dir --tag_set serve\n",
        "The given SavedModel `MetaGraphDef` contains `SignatureDefs` with the\n",
        "following keys:\n",
        "SignatureDef key: \"classify_x2_to_y3\"\n",
        "SignatureDef key: \"classify_x_to_y\"\n",
        "SignatureDef key: \"regress_x2_to_y3\"\n",
        "SignatureDef key: \"regress_x_to_y\"\n",
        "SignatureDef key: \"regress_x_to_y2\"\n",
        "SignatureDef key: \"serving_default\"\n",
        "```\n",
        "\n",
        "Если *в наборе тегов несколько* тегов, необходимо указать все теги, каждый тег должен быть разделен запятой. Например:\n",
        "\n",
        "<pre>$ saved_model_cli show --dir /tmp/saved_model_dir --tag_set serve,gpu\n",
        "</pre>\n",
        "\n",
        "Чтобы показать все входы и выходы TensorInfo для определенного `SignatureDef` , передайте ключ `SignatureDef` в параметр `signature_def` Это очень полезно, когда вы хотите узнать значение ключа тензора, dtype и форму входных тензоров для последующего выполнения графа вычислений. Например:\n",
        "\n",
        "```\n",
        "$ saved_model_cli show --dir \\\n",
        "/tmp/saved_model_dir --tag_set serve --signature_def serving_default\n",
        "The given SavedModel SignatureDef contains the following input(s):\n",
        "  inputs['x'] tensor_info:\n",
        "      dtype: DT_FLOAT\n",
        "      shape: (-1, 1)\n",
        "      name: x:0\n",
        "The given SavedModel SignatureDef contains the following output(s):\n",
        "  outputs['y'] tensor_info:\n",
        "      dtype: DT_FLOAT\n",
        "      shape: (-1, 1)\n",
        "      name: y:0\n",
        "Method name is: tensorflow/serving/predict\n",
        "```\n",
        "\n",
        "Чтобы показать всю доступную информацию в SavedModel, используйте параметр `--all` . Например:\n",
        "\n",
        "<pre>$ saved_model_cli show --dir /tmp/saved_model_dir --all\n",
        "MetaGraphDef with tag-set: 'serve' contains the following SignatureDefs:\n",
        "\n",
        "signature_def['classify_x2_to_y3']:\n",
        "  The given SavedModel SignatureDef contains the following input(s):\n",
        "    inputs['inputs'] tensor_info:\n",
        "        dtype: DT_FLOAT\n",
        "        shape: (-1, 1)\n",
        "        name: x2:0\n",
        "  The given SavedModel SignatureDef contains the following output(s):\n",
        "    outputs['scores'] tensor_info:\n",
        "        dtype: DT_FLOAT\n",
        "        shape: (-1, 1)\n",
        "        name: y3:0\n",
        "  Method name is: tensorflow/serving/classify\n",
        "\n",
        "...\n",
        "\n",
        "signature_def['serving_default']:\n",
        "  The given SavedModel SignatureDef contains the following input(s):\n",
        "    inputs['x'] tensor_info:\n",
        "        dtype: DT_FLOAT\n",
        "        shape: (-1, 1)\n",
        "        name: x:0\n",
        "  The given SavedModel SignatureDef contains the following output(s):\n",
        "    outputs['y'] tensor_info:\n",
        "        dtype: DT_FLOAT\n",
        "        shape: (-1, 1)\n",
        "        name: y:0\n",
        "  Method name is: tensorflow/serving/predict\n",
        "</pre>\n",
        "\n",
        "### `run` команду\n",
        "\n",
        "Вызовите команду `run` чтобы запустить вычисление графика, передавая входные данные и затем отображая (и при необходимости сохраняя) выходные данные. Вот синтаксис:\n",
        "\n",
        "```\n",
        "usage: saved_model_cli run [-h] --dir DIR --tag_set TAG_SET --signature_def\n",
        "                           SIGNATURE_DEF_KEY [--inputs INPUTS]\n",
        "                           [--input_exprs INPUT_EXPRS]\n",
        "                           [--input_examples INPUT_EXAMPLES] [--outdir OUTDIR]\n",
        "                           [--overwrite] [--tf_debug]\n",
        "```\n",
        "\n",
        "Команда `run` предоставляет следующие три способа передачи входных данных в модель:\n",
        "\n",
        "- `--inputs` позволяет передавать в файлах numpy ndarray.\n",
        "- `--input_exprs` позволяет передавать выражения Python.\n",
        "- `--input_examples` позволяет передавать `tf.train.Example` .\n",
        "\n",
        "#### `--inputs`\n",
        "\n",
        "Чтобы передать входные данные в файлы, укажите параметр `--inputs` , который принимает следующий общий формат:\n",
        "\n",
        "```bsh\n",
        "--inputs <INPUTS>\n",
        "```\n",
        "\n",
        "где *INPUTS* - один из следующих форматов:\n",
        "\n",
        "- `<input_key>=<filename>`\n",
        "- `<input_key>=<filename>[<variable_name>]`\n",
        "\n",
        "Вы можете передать несколько *ВХОДОВ* . Если вы передаете несколько входов, используйте точку с запятой для разделения каждого из *ВХОДОВ* .\n",
        "\n",
        "`saved_model_cli` использует `numpy.load` для загрузки имени *файла* . Имя *файла* может быть в любом из следующих форматов:\n",
        "\n",
        "- `.npy`\n",
        "- `.npz`\n",
        "- формат рассола\n",
        "\n",
        "`.npy` всегда содержит numpy ndarray. Следовательно, при загрузке из `.npy` содержимое будет напрямую назначено указанному входному тензору. Если вы укажете *имя_переменной* с этим файлом `.npy` *, имя_переменной* будет проигнорировано и будет выдано предупреждение.\n",
        "\n",
        "При загрузке из `.npz` (zip) вы можете дополнительно указать *имя_переменной,* чтобы идентифицировать переменную в zip-файле для загрузки для входного тензорного ключа. Если вы не укажете *имя_переменной* , интерфейс командной строки SavedModel проверит, что в zip-файл включен только один файл, и загрузит его для указанного входного тензорного ключа.\n",
        "\n",
        "При загрузке из файла pickle, если `variable_name` , все, что находится внутри файла pickle, будет передано указанному входному тензорному ключу. В противном случае интерфейс командной строки SavedModel будет предполагать, что словарь хранится в файле pickle, и будет использоваться значение, соответствующее *переменной_name* .\n",
        "\n",
        "#### `--input_exprs`\n",
        "\n",
        "Чтобы передавать входные данные через выражения Python, укажите параметр `--input_exprs` . Это может быть полезно, когда у вас нет файлов данных, но вы все еще хотите проверить работоспособность модели с помощью некоторых простых входных данных, которые соответствуют dtype и форме `SignatureDef` модели. Например:\n",
        "\n",
        "```bsh\n",
        "`<input_key>=[[1],[2],[3]]`\n",
        "```\n",
        "\n",
        "В дополнение к выражениям Python вы также можете передавать numpy-функции. Например:\n",
        "\n",
        "```bsh\n",
        "`<input_key>=np.ones((32,32,3))`\n",
        "```\n",
        "\n",
        "(Обратите внимание, что `numpy` уже доступен вам как `np` .)\n",
        "\n",
        "#### `--input_examples`\n",
        "\n",
        "Чтобы передать `tf.train.Example` качестве входных данных, укажите параметр `--input_examples` . Для каждого ключа ввода требуется список словарей, где каждый словарь является экземпляром `tf.train.Example` . Ключи словаря - это функции, а значения - это списки значений для каждой функции. Например:\n",
        "\n",
        "```bsh\n",
        "`<input_key>=[{\"age\":[22,24],\"education\":[\"BS\",\"MS\"]}]`\n",
        "```\n",
        "\n",
        "#### Сохранить вывод\n",
        "\n",
        "По умолчанию интерфейс командной строки SavedModel записывает вывод в стандартный вывод. Если каталог передается `--outdir` , выходные данные будут сохранены как `.npy` названные в честь выходных тензорных ключей в данном каталоге.\n",
        "\n",
        "Используйте `--overwrite` чтобы перезаписать существующие выходные файлы.\n"
      ]
    }
  ],
  "metadata": {
    "colab": {
      "collapsed_sections": [

      ],
      "name": "saved_model.ipynb",
      "private_outputs": true,
      "provenance": [

      ],
      "toc_visible": true
    },
    "kernelspec": {
      "display_name": "Python 3",
      "name": "python3"
    }
  },
  "nbformat": 4,
  "nbformat_minor": 0
}
